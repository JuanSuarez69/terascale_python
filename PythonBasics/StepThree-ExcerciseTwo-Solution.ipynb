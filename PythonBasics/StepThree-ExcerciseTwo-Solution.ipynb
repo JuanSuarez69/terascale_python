{
 "cells": [
  {
   "cell_type": "markdown",
   "metadata": {},
   "source": [
    "# Primes!\n",
    "\n",
    "## Question One: \n",
    "### Write a function to test: How many non-primes untill we get a new largest common factor?\n",
    "\n",
    "Hint - funtions work like:"
   ]
  },
  {
   "cell_type": "code",
   "execution_count": 1,
   "metadata": {},
   "outputs": [],
   "source": [
    "def remainder_two(i):\n",
    "    remainder = i%2\n",
    "    return(remainder)"
   ]
  },
  {
   "cell_type": "code",
   "execution_count": 2,
   "metadata": {},
   "outputs": [
    {
     "name": "stdout",
     "output_type": "stream",
     "text": [
      "divisible by two\n"
     ]
    }
   ],
   "source": [
    "j = 4\n",
    "if remainder_two(j)==0:\n",
    "    print(\"divisible by two\")"
   ]
  },
  {
   "cell_type": "markdown",
   "metadata": {},
   "source": [
    "Solution - functions look like this"
   ]
  },
  {
   "cell_type": "code",
   "execution_count": 3,
   "metadata": {},
   "outputs": [],
   "source": [
    "def Get_Primes(some_range):\n",
    "    numbers = range(2,some_range)\n",
    "    primes = {2:0}\n",
    "    for i in numbers:\n",
    "        for d in primes.keys():\n",
    "            if i%d==0:\n",
    "                primes[d] += 1\n",
    "                break\n",
    "        else:\n",
    "            primes[i]=0\n",
    "    largest=0\n",
    "    for p in primes:\n",
    "        if(primes[p]>0 and p>largest):\n",
    "            largest=p\n",
    "    results = {\"largest prime\":list(primes.keys())[-1], \"largest factor\":largest}\n",
    "\n",
    "    return(results)"
   ]
  },
  {
   "cell_type": "code",
   "execution_count": 4,
   "metadata": {},
   "outputs": [
    {
     "name": "stdout",
     "output_type": "stream",
     "text": [
      "('new champ at ', 122)\n"
     ]
    }
   ],
   "source": [
    "n_to_beat = Get_Primes(100)[\"largest factor\"]\n",
    "for i in range(100,150):\n",
    "    new_i = Get_Primes(i)[\"largest factor\"]\n",
    "    if(new_i > n_to_beat):\n",
    "        n_to_beat = new_i\n",
    "        print(\"new champ at \",i)"
   ]
  },
  {
   "cell_type": "markdown",
   "metadata": {},
   "source": [
    "## Question Two:\n",
    "Can you put your function in a `.py` file and call it from this notebook!"
   ]
  },
  {
   "cell_type": "code",
   "execution_count": 5,
   "metadata": {},
   "outputs": [],
   "source": [
    "from function_solution import Get_Primes as Extern_Primes"
   ]
  },
  {
   "cell_type": "code",
   "execution_count": 6,
   "metadata": {},
   "outputs": [
    {
     "name": "stdout",
     "output_type": "stream",
     "text": [
      "('new champ', 122)\n"
     ]
    }
   ],
   "source": [
    "n_to_beat = Extern_Primes(100)[\"largest factor\"]\n",
    "for i in range(100,150):\n",
    "    new_i = Extern_Primes(i)[\"largest factor\"]\n",
    "    if(new_i > n_to_beat):\n",
    "        n_to_beat = new_i\n",
    "        print(\"new champ\",i)"
   ]
  },
  {
   "cell_type": "markdown",
   "metadata": {},
   "source": [
    "## Question Three\n",
    "### Finish this class"
   ]
  },
  {
   "cell_type": "code",
   "execution_count": 7,
   "metadata": {},
   "outputs": [],
   "source": [
    "class Primes_Summary:\n",
    "    def __init__(self,n):\n",
    "        self.n = n\n",
    "        self.primes = self.Get_Primes(n)\n",
    "        self.largest_factor = self.primes[\"largest factor\"]\n",
    "        self.n_primes = self.primes[\"n primes\"]\n",
    "        self.largest_prime = self.primes[\"largest prime\"]\n",
    "    def Print(self):\n",
    "        print(\"for the range 1-{}\".format(self.n))\n",
    "        print(\"the largest prime is {} and the largest factor {}\".format(\n",
    "            self.largest_prime,\n",
    "            self.largest_factor))\n",
    "        print(\"with {} primes in all\".format(self.n_primes))\n",
    "    def Get_Primes(self, some_range):\n",
    "        numbers = range(2,some_range)\n",
    "        primes = {2:0}\n",
    "        for i in numbers:\n",
    "            for d in primes.keys():\n",
    "                if i%d==0:\n",
    "                    primes[d] += 1\n",
    "                    break\n",
    "            else:\n",
    "                primes[i]=0\n",
    "        largest=0\n",
    "        for p in primes:\n",
    "            if(primes[p]>0 and p>largest):\n",
    "                largest=p\n",
    "        results = {\"largest prime\":list(primes.keys())[-1], \"n primes\":len(primes.items()), \"largest factor\":largest}\n",
    "\n",
    "        return(results)"
   ]
  },
  {
   "cell_type": "code",
   "execution_count": 8,
   "metadata": {},
   "outputs": [],
   "source": [
    "p = Primes_Summary(100)"
   ]
  },
  {
   "cell_type": "code",
   "execution_count": 9,
   "metadata": {},
   "outputs": [
    {
     "data": {
      "text/plain": [
       "97"
      ]
     },
     "execution_count": 9,
     "metadata": {},
     "output_type": "execute_result"
    }
   ],
   "source": [
    "p.largest_prime"
   ]
  },
  {
   "cell_type": "code",
   "execution_count": 10,
   "metadata": {},
   "outputs": [
    {
     "name": "stdout",
     "output_type": "stream",
     "text": [
      "for the range 1-100\n",
      "the largest prime is 97 and the largest factor 7\n",
      "with 25 primes in all\n"
     ]
    }
   ],
   "source": [
    "p.Print()"
   ]
  }
 ],
 "metadata": {
  "kernelspec": {
   "display_name": "Python 2",
   "language": "python",
   "name": "python2"
  },
  "language_info": {
   "codemirror_mode": {
    "name": "ipython",
    "version": 2
   },
   "file_extension": ".py",
   "mimetype": "text/x-python",
   "name": "python",
   "nbconvert_exporter": "python",
   "pygments_lexer": "ipython2",
   "version": "2.7.13"
  }
 },
 "nbformat": 4,
 "nbformat_minor": 2
}
