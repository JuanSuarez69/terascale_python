{
 "cells": [
  {
   "cell_type": "markdown",
   "metadata": {},
   "source": [
    "# Primes!\n",
    "\n",
    "## Question One: \n",
    "### For all numbers under 100 what is the largest number without common factors (prime numbers)?\n",
    "\n",
    "Hint - test for primes like:"
   ]
  },
  {
   "cell_type": "code",
   "execution_count": 1,
   "metadata": {},
   "outputs": [
    {
     "name": "stdout",
     "output_type": "stream",
     "text": [
      "divisible by two\n"
     ]
    }
   ],
   "source": [
    "i = 4\n",
    "if i%2 == 0:\n",
    "    print(\"divisible by two\")"
   ]
  },
  {
   "cell_type": "markdown",
   "metadata": {},
   "source": [
    "Solution - Loop over numbers and check if they are divisible by previous primes. If not add to a container."
   ]
  },
  {
   "cell_type": "code",
   "execution_count": 2,
   "metadata": {},
   "outputs": [],
   "source": [
    "numbers = range(2,100) # a list of nembers from 2-99\n",
    "primes = {2:0} # a dictionary to hold all the primes\n",
    "\n",
    "# loop over the list of all numbers\n",
    "for i in numbers:  \n",
    "    #list over all currently known prime numbers\n",
    "    for d in primes.keys():\n",
    "        #if divisible by this prime it is not a prime\n",
    "        if i%d==0:\n",
    "            # increase frequency of smallest common factor\n",
    "            primes[d] += 1\n",
    "            break #leave the loop over primes!\n",
    "    else:\n",
    "        primes[i]=0 # not divisible by other numbers? prime!"
   ]
  },
  {
   "cell_type": "markdown",
   "metadata": {},
   "source": [
    "## Question Two:\n",
    "### a) For all common factors of non-primes under a hundred, which is the most common?\n",
    "\n",
    "### b) For all common factors of non-primes under a hundred, which is the largest?"
   ]
  },
  {
   "cell_type": "code",
   "execution_count": 3,
   "metadata": {},
   "outputs": [
    {
     "name": "stdout",
     "output_type": "stream",
     "text": [
      "Commonest (part a) 2, largest (part b) 7\n"
     ]
    }
   ],
   "source": [
    "# define targets\n",
    "highest = 0\n",
    "highest_freq = 0\n",
    "largest = 0\n",
    "\n",
    "#loop over results\n",
    "for number, frequency in primes.items():\n",
    "    if frequency > highest_freq:\n",
    "        highest_freq = frequency\n",
    "        highest = number\n",
    "    elif frequency > 0:\n",
    "        largest = number\n",
    "\n",
    "#print results\n",
    "print(\"Commonest (part a) {}, largest (part b) {}\".format(highest, largest))"
   ]
  }
 ],
 "metadata": {
  "kernelspec": {
   "display_name": "Python 2",
   "language": "python",
   "name": "python2"
  },
  "language_info": {
   "codemirror_mode": {
    "name": "ipython",
    "version": 2
   },
   "file_extension": ".py",
   "mimetype": "text/x-python",
   "name": "python",
   "nbconvert_exporter": "python",
   "pygments_lexer": "ipython2",
   "version": "2.7.13"
  }
 },
 "nbformat": 4,
 "nbformat_minor": 2
}
